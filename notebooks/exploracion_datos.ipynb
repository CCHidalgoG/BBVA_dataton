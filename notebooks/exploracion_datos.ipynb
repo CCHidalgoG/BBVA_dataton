{
 "cells": [
  {
   "cell_type": "markdown",
   "source": [
    "# Exploración de datos"
   ],
   "metadata": {
    "collapsed": false,
    "pycharm": {
     "name": "#%% md\n"
    }
   }
  },
  {
   "cell_type": "code",
   "execution_count": 1,
   "outputs": [],
   "source": [
    "import numpy as np\n",
    "from pyspark.sql import SparkSession\n",
    "from pyspark.sql.functions import col\n",
    "from pyspark.sql.functions import lit"
   ],
   "metadata": {
    "collapsed": false,
    "pycharm": {
     "name": "#%%\n"
    },
    "ExecuteTime": {
     "end_time": "2023-10-04T00:02:55.958371082Z",
     "start_time": "2023-10-04T00:02:55.898211988Z"
    }
   }
  },
  {
   "cell_type": "markdown",
   "source": [
    "## Carga de tablas"
   ],
   "metadata": {
    "collapsed": false
   }
  },
  {
   "cell_type": "code",
   "execution_count": 2,
   "outputs": [
    {
     "name": "stdout",
     "output_type": "stream",
     "text": [
      "23/10/03 19:02:58 WARN Utils: Your hostname, chidalgo-linux resolves to a loopback address: 127.0.1.1; using 192.168.1.64 instead (on interface wlp0s20f3)\n",
      "23/10/03 19:02:58 WARN Utils: Set SPARK_LOCAL_IP if you need to bind to another address\n"
     ]
    },
    {
     "name": "stderr",
     "output_type": "stream",
     "text": [
      "Setting default log level to \"WARN\".\n",
      "To adjust logging level use sc.setLogLevel(newLevel). For SparkR, use setLogLevel(newLevel).\n"
     ]
    },
    {
     "name": "stdout",
     "output_type": "stream",
     "text": [
      "23/10/03 19:02:59 WARN NativeCodeLoader: Unable to load native-hadoop library for your platform... using builtin-java classes where applicable\n",
      "23/10/03 19:02:59 WARN Utils: Service 'SparkUI' could not bind on port 4040. Attempting port 4041.\n"
     ]
    }
   ],
   "source": [
    "spark = SparkSession.builder.getOrCreate()"
   ],
   "metadata": {
    "collapsed": false,
    "pycharm": {
     "name": "#%%\n"
    },
    "ExecuteTime": {
     "end_time": "2023-10-04T00:03:00.080047433Z",
     "start_time": "2023-10-04T00:02:57.174723447Z"
    }
   }
  },
  {
   "cell_type": "code",
   "execution_count": 3,
   "outputs": [
    {
     "name": "stdout",
     "output_type": "stream",
     "text": [
      "+-----+--------------------+------+---------+--------+--------------+------------+--------+\n",
      "|month|                  ID|  type|  product|  entity|balance_amount|days_default|  period|\n",
      "+-----+--------------------+------+---------+--------+--------------+------------+--------+\n",
      "|   11|c844ef92b32ec94ba...|type_7|product_2|entity_2|        3.4051|         5.0|period_5|\n",
      "|   10|c817cb3a37a6b6403...|type_7|product_2|entity_1|        3.4003|         5.0|period_5|\n",
      "|    6|1d1f726d844c5a343...|type_7|product_2|entity_5|        3.0592|         5.0|period_5|\n",
      "|    6|7c77a3fd230db1698...|type_7|product_2|entity_2|        2.8013|         5.0|period_5|\n",
      "|   11|a8702fb4fbdcb7356...|type_7|product_2|entity_2|         2.985|         5.0|period_5|\n",
      "+-----+--------------------+------+---------+--------+--------------+------------+--------+\n"
     ]
    }
   ],
   "source": [
    "# Cargamos la base de datos de balances y la revisamos en su estructura\n",
    "balances = spark.read.csv('../data/archive/balances.csv', header=True)\n",
    "balances.show(5)"
   ],
   "metadata": {
    "collapsed": false,
    "pycharm": {
     "name": "#%%\n"
    },
    "ExecuteTime": {
     "end_time": "2023-10-04T00:03:33.454800859Z",
     "start_time": "2023-10-04T00:03:29.867537344Z"
    }
   }
  },
  {
   "cell_type": "code",
   "execution_count": 4,
   "outputs": [
    {
     "name": "stdout",
     "output_type": "stream",
     "text": [
      "+--------------------+------+------+---------------------+--------+-----------+-------+---------+---------+---------+---------+-------+-------+-------+\n",
      "|                  ID|   age|income|time_from_specialized|type_job|bureau_risk|payroll|product_1|product_2|product_3|product_4|ofert_1|ofert_2|ofert_3|\n",
      "+--------------------+------+------+---------------------+--------+-----------+-------+---------+---------+---------+---------+-------+-------+-------+\n",
      "|42af3bf64c2c14307...|4.2484|4.1259|                  0.0|  type_2| category_4| 4.8095|      Yes|       No|       No|      Yes|     No|     No|     No|\n",
      "|5ab9acd6dc30e0e93...|4.6903| 3.957|                  0.0|  type_7| category_9|    0.0|       No|       No|       No|      Yes|     No|     No|     No|\n",
      "|8e40f988dd93417a0...|4.1682| 4.464|                  0.0|  type_7| category_5|    0.0|       No|       No|       No|      Yes|     No|     No|     No|\n",
      "|0e48974ce6e81d9e8...|3.9651|4.0966|                  0.0|  type_7| category_3|    0.0|      Yes|      Yes|      Yes|      Yes|     No|     No|     No|\n",
      "|e033c53b4fb230de5...|3.9576|4.1876|                  0.0|  type_7| category_5|    0.0|      Yes|       No|       No|      Yes|     No|     No|     No|\n",
      "+--------------------+------+------+---------------------+--------+-----------+-------+---------+---------+---------+---------+-------+-------+-------+\n"
     ]
    }
   ],
   "source": [
    "# Cargamos la base de datos customers y la visualizamos\n",
    "customers = spark.read.csv('../data/archive/customers.csv', header=True)\n",
    "customers.show(5)"
   ],
   "metadata": {
    "collapsed": false,
    "ExecuteTime": {
     "end_time": "2023-10-04T00:03:34.917954702Z",
     "start_time": "2023-10-04T00:03:34.548114565Z"
    }
   }
  },
  {
   "cell_type": "code",
   "execution_count": 5,
   "outputs": [
    {
     "name": "stdout",
     "output_type": "stream",
     "text": [
      "+-----+--------------------+---------+---------+--------+\n",
      "|month|                  ID|product_1|product_2|  period|\n",
      "+-----+--------------------+---------+---------+--------+\n",
      "|   11|c7a6cecac361a970e...|     4.19|      0.0|period_5|\n",
      "|   12|68f89dc7efe7cd1ce...|   4.4621|      0.0|period_5|\n",
      "|    2|e3f6afb18792d0b97...|   4.2878|      0.0|period_5|\n",
      "|    1|8993170400939d522...|      5.0|      5.0|period_5|\n",
      "|    7|399d686897232a55c...|   3.8922|      0.0|period_5|\n",
      "+-----+--------------------+---------+---------+--------+\n"
     ]
    }
   ],
   "source": [
    "# Cargamos la base liabilities y la visualizamos\n",
    "liabilities = spark.read.csv('../data/archive/liabilities.csv', header=True)\n",
    "liabilities.show(5)"
   ],
   "metadata": {
    "collapsed": false,
    "ExecuteTime": {
     "end_time": "2023-10-04T00:03:35.670660064Z",
     "start_time": "2023-10-04T00:03:35.170824587Z"
    }
   }
  },
  {
   "cell_type": "code",
   "execution_count": 6,
   "outputs": [
    {
     "name": "stdout",
     "output_type": "stream",
     "text": [
      "+--------+--------------------+-----+------+------+------+------+\n",
      "|  period|                  ID|month|type_1|type_2|type_3|type_4|\n",
      "+--------+--------------------+-----+------+------+------+------+\n",
      "|period_9|a66d4bbb5278c8a58...|   12|   0.0|   0.0|   0.0|3.9437|\n",
      "|period_9|0d0a4fb4f1c98add6...|    1|3.7397|3.3499|   0.0|   0.0|\n",
      "|period_9|a5b9c4d7ae3dfe5cc...|    4|3.6273|3.9726|3.6655|4.4131|\n",
      "|period_9|8a583965c827c3776...|    8|3.7855|4.8286|   5.0|4.5094|\n",
      "|period_9|e53bf4249c7d6d573...|    7|2.6077|3.9344|1.3229|3.8061|\n",
      "+--------+--------------------+-----+------+------+------+------+\n"
     ]
    }
   ],
   "source": [
    "# Se carga la base de datos movements y se visualiza\n",
    "movements = spark.read.csv('../data/bbva-data-challenge-2023/archive/movements.csv', header=True)\n",
    "movements.show(5)"
   ],
   "metadata": {
    "collapsed": false,
    "ExecuteTime": {
     "end_time": "2023-10-04T00:03:37.531764790Z",
     "start_time": "2023-10-04T00:03:37.264712522Z"
    }
   }
  },
  {
   "cell_type": "code",
   "execution_count": 7,
   "outputs": [
    {
     "name": "stdout",
     "output_type": "stream",
     "text": [
      "+--------------------+---------+--------+---------+\n",
      "|                  ID|attrition|  period|partition|\n",
      "+--------------------+---------+--------+---------+\n",
      "|4d5a33701cb5b30b0...|        0|period_5|    train|\n",
      "|bf7092e5f394d2661...|        0|period_5|    train|\n",
      "|270d8f8f607d19886...|        0|period_5|    train|\n",
      "|5e6b7bea5e4911329...|        0|period_5|    train|\n",
      "|98954adf775b9fce1...|        0|period_5|    train|\n",
      "+--------------------+---------+--------+---------+\n"
     ]
    }
   ],
   "source": [
    "# Cargamos universe train y visualizamos (añadimos etiqueta)\n",
    "universe_train = spark.read.csv('../data/bbva-data-challenge-2023/archive/universe_train.csv', header=True)\n",
    "universe_train = universe_train.withColumn(\"partition\", lit(\"train\"))\n",
    "universe_train.show(5)"
   ],
   "metadata": {
    "collapsed": false,
    "ExecuteTime": {
     "end_time": "2023-10-04T00:03:38.567036730Z",
     "start_time": "2023-10-04T00:03:38.245319832Z"
    }
   }
  },
  {
   "cell_type": "code",
   "execution_count": 8,
   "outputs": [
    {
     "name": "stdout",
     "output_type": "stream",
     "text": [
      "+--------------------+--------+---------+---------+\n",
      "|                  ID|  period|attrition|partition|\n",
      "+--------------------+--------+---------+---------+\n",
      "|20b427c65c62ee017...|period_9|      NaN|     test|\n",
      "|4881d4a2146002a02...|period_9|      NaN|     test|\n",
      "|28ff12351f215091b...|period_9|      NaN|     test|\n",
      "|5cd2c0dc92c1c5ffa...|period_9|      NaN|     test|\n",
      "|ceebdd2bbaafd83d8...|period_9|      NaN|     test|\n",
      "+--------------------+--------+---------+---------+\n"
     ]
    }
   ],
   "source": [
    "# Cargamos universe test, homologamos con train y visualizamos\n",
    "universe_test = spark.read.csv('../data/bbva-data-challenge-2023/archive/universe_test.csv', header=True)\n",
    "universe_test = universe_test.withColumn('attrition',  lit(np.nan))\n",
    "universe_test = universe_test.withColumn('partition',  lit(\"test\"))\n",
    "universe_test.show(5)"
   ],
   "metadata": {
    "collapsed": false,
    "ExecuteTime": {
     "end_time": "2023-10-04T00:03:46.907244952Z",
     "start_time": "2023-10-04T00:03:46.663440702Z"
    }
   }
  },
  {
   "cell_type": "code",
   "execution_count": 9,
   "outputs": [],
   "source": [
    "# unimos test y train\n",
    "universe = universe_train.unionByName(universe_test)"
   ],
   "metadata": {
    "collapsed": false,
    "ExecuteTime": {
     "end_time": "2023-10-04T00:03:48.151819551Z",
     "start_time": "2023-10-04T00:03:48.118207485Z"
    }
   }
  },
  {
   "cell_type": "code",
   "execution_count": 10,
   "outputs": [
    {
     "name": "stdout",
     "output_type": "stream",
     "text": [
      "+--------------------+---------+--------+---------+\n",
      "|                  ID|attrition|  period|partition|\n",
      "+--------------------+---------+--------+---------+\n",
      "|4d5a33701cb5b30b0...|        0|period_5|    train|\n",
      "|bf7092e5f394d2661...|        0|period_5|    train|\n",
      "|270d8f8f607d19886...|        0|period_5|    train|\n",
      "|5e6b7bea5e4911329...|        0|period_5|    train|\n",
      "|98954adf775b9fce1...|        0|period_5|    train|\n",
      "+--------------------+---------+--------+---------+\n"
     ]
    }
   ],
   "source": [
    "# finalmente, revisamos el ejemplo de cómo debe ser el output\n",
    "sample_submission = spark.read.csv('../data/bbva-data-challenge-2023/archive/sample_submission.csv', header=True)\n",
    "sample_submission.show(5)"
   ],
   "metadata": {
    "collapsed": false,
    "ExecuteTime": {
     "end_time": "2023-10-04T00:03:50.527451887Z",
     "start_time": "2023-10-04T00:03:50.382576612Z"
    }
   }
  },
  {
   "cell_type": "markdown",
   "source": [
    "## Unión entre tablas"
   ],
   "metadata": {
    "collapsed": false,
    "ExecuteTime": {
     "end_time": "2023-10-04T00:03:52.998186923Z",
     "start_time": "2023-10-04T00:03:52.775424382Z"
    }
   }
  },
  {
   "cell_type": "code",
   "execution_count": 12,
   "outputs": [
    {
     "name": "stderr",
     "output_type": "stream",
     "text": [
      "                                                                                \r"
     ]
    },
    {
     "data": {
      "text/plain": "3697738"
     },
     "execution_count": 12,
     "metadata": {},
     "output_type": "execute_result"
    }
   ],
   "source": [],
   "metadata": {
    "collapsed": false,
    "ExecuteTime": {
     "end_time": "2023-10-04T00:03:56.356821596Z",
     "start_time": "2023-10-04T00:03:55.296760968Z"
    }
   }
  }
 ],
 "metadata": {
  "kernelspec": {
   "display_name": "Python 3",
   "language": "python",
   "name": "python3"
  },
  "language_info": {
   "codemirror_mode": {
    "name": "ipython",
    "version": 2
   },
   "file_extension": ".py",
   "mimetype": "text/x-python",
   "name": "python",
   "nbconvert_exporter": "python",
   "pygments_lexer": "ipython2",
   "version": "2.7.6"
  }
 },
 "nbformat": 4,
 "nbformat_minor": 0
}
